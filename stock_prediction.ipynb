{
  "nbformat": 4,
  "nbformat_minor": 0,
  "metadata": {
    "colab": {
      "name": "stock_prediction.ipynb",
      "version": "0.3.2",
      "provenance": [],
      "include_colab_link": true
    },
    "kernelspec": {
      "display_name": "Python 3",
      "language": "python",
      "name": "python3"
    }
  },
  "cells": [
    {
      "cell_type": "markdown",
      "metadata": {
        "id": "view-in-github",
        "colab_type": "text"
      },
      "source": [
        "<a href=\"https://colab.research.google.com/github/nelsonkam/trading_python/blob/master/stock_prediction.ipynb\" target=\"_parent\"><img src=\"https://colab.research.google.com/assets/colab-badge.svg\" alt=\"Open In Colab\"/></a>"
      ]
    },
    {
      "metadata": {
        "scrolled": true,
        "id": "9mVvrXTeZHHx",
        "colab_type": "code",
        "colab": {}
      },
      "cell_type": "code",
      "source": [
        "import pandas as pd\n",
        "from pandas_datareader import data\n",
        "from datetime import datetime, timedelta\n",
        "import matplotlib.pyplot as plt\n",
        "from sklearn.preprocessing import MinMaxScaler\n",
        "import numpy as np\n",
        "from keras.models import Sequential  \n",
        "from keras.layers import Dense  \n",
        "from keras.layers import LSTM  \n",
        "from keras.layers import Dropout"
      ],
      "execution_count": 0,
      "outputs": []
    },
    {
      "metadata": {
        "id": "O3iHzfFRZHH2",
        "colab_type": "code",
        "colab": {}
      },
      "cell_type": "code",
      "source": [
        "ticker = 'TSLA'\n",
        "df = data.DataReader(ticker, 'iex', datetime(2018, 8, 1), datetime(2018, 9, 1))\n",
        "df_data = data.DataReader(ticker, 'iex', datetime(2014, 1, 1), datetime(2018, 12, 31))\n",
        "df_test = data.DataReader(ticker, 'iex', datetime(2019, 1, 1), datetime(2019, 1, 31))"
      ],
      "execution_count": 0,
      "outputs": []
    },
    {
      "metadata": {
        "id": "Ws-oTCvuZHH6",
        "colab_type": "code",
        "colab": {}
      },
      "cell_type": "code",
      "source": [
        "df.head()"
      ],
      "execution_count": 0,
      "outputs": []
    },
    {
      "metadata": {
        "id": "pK0PC0f3ZHH9",
        "colab_type": "code",
        "colab": {}
      },
      "cell_type": "code",
      "source": [
        "df['mid_price'] = (df['low'] + df['high']) / 2\n",
        "df.plot(y='mid_price')"
      ],
      "execution_count": 0,
      "outputs": []
    },
    {
      "metadata": {
        "id": "UuMrSRBxZHIA",
        "colab_type": "code",
        "colab": {}
      },
      "cell_type": "code",
      "source": [
        "df_data['mid_price'] = (df_data['low'] + df_data['high']) / 2\n",
        "data = df_data['mid_price'].values\n",
        "data"
      ],
      "execution_count": 0,
      "outputs": []
    },
    {
      "metadata": {
        "id": "WQsVLDH1ZHID",
        "colab_type": "code",
        "colab": {}
      },
      "cell_type": "code",
      "source": [
        "data.shape # (row h, column v)"
      ],
      "execution_count": 0,
      "outputs": []
    },
    {
      "metadata": {
        "id": "o9j7PGL7ZHIG",
        "colab_type": "code",
        "colab": {}
      },
      "cell_type": "code",
      "source": [
        "data = data.reshape(-1, 1) # change array/matrix shape -- same as (x, 1)\n",
        "data.shape"
      ],
      "execution_count": 0,
      "outputs": []
    },
    {
      "metadata": {
        "id": "PaH2bH5uZHII",
        "colab_type": "code",
        "colab": {}
      },
      "cell_type": "code",
      "source": [
        "# Normalize train data\n",
        "scaler = MinMaxScaler()\n",
        "scaler.fit(data) # calculates min and max of dataset\n",
        "scaler.data_max_"
      ],
      "execution_count": 0,
      "outputs": []
    },
    {
      "metadata": {
        "id": "8CTLAB2PZHIL",
        "colab_type": "code",
        "colab": {}
      },
      "cell_type": "code",
      "source": [
        "data = scaler.transform(data)\n",
        "data"
      ],
      "execution_count": 0,
      "outputs": []
    },
    {
      "metadata": {
        "id": "IXyLOw5rZHIO",
        "colab_type": "code",
        "colab": {}
      },
      "cell_type": "code",
      "source": [
        "train_data = data[:]\n",
        "train_data.size"
      ],
      "execution_count": 0,
      "outputs": []
    },
    {
      "metadata": {
        "id": "19bd84IqZHIS",
        "colab_type": "code",
        "colab": {}
      },
      "cell_type": "code",
      "source": [
        "window_size = 100 # size of batch/window for average calculation\n",
        "std_avg_predictions = []\n",
        "std_avg_x = []\n",
        "mse_errors = []\n",
        "\n",
        "for index in range(window_size, train_data.size):\n",
        "    date = df_data.index[index]\n",
        "        \n",
        "    prediction = np.mean(train_data[index-window_size:index])\n",
        "    std_avg_predictions.append(prediction)\n",
        "    \n",
        "    mse_errors.append((std_avg_predictions[-1]-train_data[index])**2)\n",
        "    std_avg_x.append(date)\n",
        "\n",
        "print('Mean Squared Error for standard averaging: %.5f'%(0.5*np.mean(mse_errors)))"
      ],
      "execution_count": 0,
      "outputs": []
    },
    {
      "metadata": {
        "id": "RXSRZ3UyZHIV",
        "colab_type": "code",
        "colab": {}
      },
      "cell_type": "code",
      "source": [
        "df_result = pd.DataFrame(index=std_avg_x, columns=['prediction', 'true'])\n",
        "df_result['prediction'] = std_avg_predictions\n",
        "\n",
        "# the first window_size nth are ignored as they are \n",
        "# used by the standard averaging function\n",
        "df_result['true'] = train_data[window_size:]  \n",
        "df_result.plot(y=['prediction', 'true'])"
      ],
      "execution_count": 0,
      "outputs": []
    },
    {
      "metadata": {
        "id": "FCUEopUXZHIX",
        "colab_type": "code",
        "colab": {}
      },
      "cell_type": "code",
      "source": [
        "# Here we are trying to predict price\n",
        "# of stock based on the past 60 days.\n",
        "# So our input (feature_set) here is \n",
        "# the prices of the last 60 days and\n",
        "# the output (label) is the price on\n",
        "# on the 61st day.\n",
        "window = 60\n",
        "features_set = []  \n",
        "labels = []  \n",
        "for i in range(window, data.size):  \n",
        "    features_set.append(data[i-window:i, 0])\n",
        "    labels.append(data[i, 0])\n",
        "features_set, labels = np.array(features_set), np.array(labels)  \n",
        "features_set, labels"
      ],
      "execution_count": 0,
      "outputs": []
    },
    {
      "metadata": {
        "id": "-4kq6HpuZHIZ",
        "colab_type": "code",
        "colab": {}
      },
      "cell_type": "code",
      "source": [
        "# We need to change the shape of\n",
        "# features_set (1167, 60) to a\n",
        "# 3D matrix for the LSTM training\n",
        "features_set = np.reshape(features_set, (features_set.shape[0], features_set.shape[1], 1))\n",
        "features_set.shape"
      ],
      "execution_count": 0,
      "outputs": []
    },
    {
      "metadata": {
        "id": "BSAu4QpOZHId",
        "colab_type": "code",
        "colab": {}
      },
      "cell_type": "code",
      "source": [
        "model = Sequential()  \n",
        "model.add(LSTM(units=50, return_sequences=True, input_shape=(features_set.shape[1], 1)))\n",
        "model.add(Dropout(0.2))\n",
        "\n",
        "model.add(LSTM(units=50, return_sequences=True))  \n",
        "model.add(Dropout(0.2))\n",
        "\n",
        "model.add(LSTM(units=50, return_sequences=True))  \n",
        "model.add(Dropout(0.2))\n",
        "\n",
        "model.add(LSTM(units=50))  \n",
        "model.add(Dropout(0.2))\n",
        "\n",
        "model.add(Dense(units = 1))"
      ],
      "execution_count": 0,
      "outputs": []
    },
    {
      "metadata": {
        "id": "mxnsLDrjZHIf",
        "colab_type": "code",
        "colab": {}
      },
      "cell_type": "code",
      "source": [
        "model.compile(optimizer = 'adam', loss = 'mean_squared_error') "
      ],
      "execution_count": 0,
      "outputs": []
    },
    {
      "metadata": {
        "id": "3uQmewBDZHIi",
        "colab_type": "code",
        "outputId": "e751fa8c-43c2-493e-ce36-8f19a6378efc",
        "colab": {
          "base_uri": "https://localhost:8080/",
          "height": 3434
        }
      },
      "cell_type": "code",
      "source": [
        "model.fit(features_set, labels, epochs = 100, batch_size = 32)"
      ],
      "execution_count": 0,
      "outputs": [
        {
          "output_type": "stream",
          "text": [
            "Epoch 1/100\n",
            "1167/1167 [==============================] - 10s 8ms/step - loss: 0.0592\n",
            "Epoch 2/100\n",
            "1167/1167 [==============================] - 6s 5ms/step - loss: 0.0121\n",
            "Epoch 3/100\n",
            "1167/1167 [==============================] - 6s 5ms/step - loss: 0.0109\n",
            "Epoch 4/100\n",
            "1167/1167 [==============================] - 6s 5ms/step - loss: 0.0101\n",
            "Epoch 5/100\n",
            "1167/1167 [==============================] - 6s 5ms/step - loss: 0.0101\n",
            "Epoch 6/100\n",
            "1167/1167 [==============================] - 6s 5ms/step - loss: 0.0107\n",
            "Epoch 7/100\n",
            "1167/1167 [==============================] - 6s 5ms/step - loss: 0.0084\n",
            "Epoch 8/100\n",
            "1167/1167 [==============================] - 6s 5ms/step - loss: 0.0090\n",
            "Epoch 9/100\n",
            "1167/1167 [==============================] - 6s 5ms/step - loss: 0.0090\n",
            "Epoch 10/100\n",
            "1167/1167 [==============================] - 6s 5ms/step - loss: 0.0077\n",
            "Epoch 11/100\n",
            "1167/1167 [==============================] - 6s 5ms/step - loss: 0.0068\n",
            "Epoch 12/100\n",
            "1167/1167 [==============================] - 6s 5ms/step - loss: 0.0073\n",
            "Epoch 13/100\n",
            "1167/1167 [==============================] - 6s 5ms/step - loss: 0.0070\n",
            "Epoch 14/100\n",
            "1167/1167 [==============================] - 6s 5ms/step - loss: 0.0066\n",
            "Epoch 15/100\n",
            "1167/1167 [==============================] - 6s 5ms/step - loss: 0.0061\n",
            "Epoch 16/100\n",
            "1167/1167 [==============================] - 6s 5ms/step - loss: 0.0056\n",
            "Epoch 17/100\n",
            "1167/1167 [==============================] - 6s 5ms/step - loss: 0.0057\n",
            "Epoch 18/100\n",
            "1167/1167 [==============================] - 6s 5ms/step - loss: 0.0058\n",
            "Epoch 19/100\n",
            "1167/1167 [==============================] - 6s 5ms/step - loss: 0.0053\n",
            "Epoch 20/100\n",
            "1167/1167 [==============================] - 6s 5ms/step - loss: 0.0047\n",
            "Epoch 21/100\n",
            "1167/1167 [==============================] - 6s 5ms/step - loss: 0.0048\n",
            "Epoch 22/100\n",
            "1167/1167 [==============================] - 6s 5ms/step - loss: 0.0050\n",
            "Epoch 23/100\n",
            "1167/1167 [==============================] - 6s 5ms/step - loss: 0.0050\n",
            "Epoch 24/100\n",
            "1167/1167 [==============================] - 6s 5ms/step - loss: 0.0051\n",
            "Epoch 25/100\n",
            "1167/1167 [==============================] - 6s 5ms/step - loss: 0.0044\n",
            "Epoch 26/100\n",
            "1167/1167 [==============================] - 6s 5ms/step - loss: 0.0044\n",
            "Epoch 27/100\n",
            "1167/1167 [==============================] - 6s 5ms/step - loss: 0.0045\n",
            "Epoch 28/100\n",
            "1167/1167 [==============================] - 6s 5ms/step - loss: 0.0041\n",
            "Epoch 29/100\n",
            "1167/1167 [==============================] - 6s 5ms/step - loss: 0.0044\n",
            "Epoch 30/100\n",
            "1167/1167 [==============================] - 6s 5ms/step - loss: 0.0041\n",
            "Epoch 31/100\n",
            "1167/1167 [==============================] - 6s 5ms/step - loss: 0.0038\n",
            "Epoch 32/100\n",
            "1167/1167 [==============================] - 6s 5ms/step - loss: 0.0039\n",
            "Epoch 33/100\n",
            "1167/1167 [==============================] - 6s 5ms/step - loss: 0.0040\n",
            "Epoch 34/100\n",
            "1167/1167 [==============================] - 6s 5ms/step - loss: 0.0047\n",
            "Epoch 35/100\n",
            "1167/1167 [==============================] - 6s 5ms/step - loss: 0.0037\n",
            "Epoch 36/100\n",
            "1167/1167 [==============================] - 6s 5ms/step - loss: 0.0040\n",
            "Epoch 37/100\n",
            "1167/1167 [==============================] - 6s 5ms/step - loss: 0.0035\n",
            "Epoch 38/100\n",
            "1167/1167 [==============================] - 6s 5ms/step - loss: 0.0034\n",
            "Epoch 39/100\n",
            "1167/1167 [==============================] - 6s 5ms/step - loss: 0.0034\n",
            "Epoch 40/100\n",
            "1167/1167 [==============================] - 6s 5ms/step - loss: 0.0035\n",
            "Epoch 41/100\n",
            "1167/1167 [==============================] - 6s 5ms/step - loss: 0.0034\n",
            "Epoch 42/100\n",
            "1167/1167 [==============================] - 6s 5ms/step - loss: 0.0035\n",
            "Epoch 43/100\n",
            "1167/1167 [==============================] - 6s 5ms/step - loss: 0.0032\n",
            "Epoch 44/100\n",
            "1167/1167 [==============================] - 6s 5ms/step - loss: 0.0032\n",
            "Epoch 45/100\n",
            "1167/1167 [==============================] - 6s 5ms/step - loss: 0.0033\n",
            "Epoch 46/100\n",
            "1167/1167 [==============================] - 6s 5ms/step - loss: 0.0031\n",
            "Epoch 47/100\n",
            "1167/1167 [==============================] - 6s 5ms/step - loss: 0.0029\n",
            "Epoch 48/100\n",
            "1167/1167 [==============================] - 6s 5ms/step - loss: 0.0029\n",
            "Epoch 49/100\n",
            "1167/1167 [==============================] - 6s 5ms/step - loss: 0.0037\n",
            "Epoch 50/100\n",
            "1167/1167 [==============================] - 6s 5ms/step - loss: 0.0030\n",
            "Epoch 51/100\n",
            "1167/1167 [==============================] - 6s 5ms/step - loss: 0.0031\n",
            "Epoch 52/100\n",
            "1167/1167 [==============================] - 6s 5ms/step - loss: 0.0029\n",
            "Epoch 53/100\n",
            "1167/1167 [==============================] - 6s 5ms/step - loss: 0.0029\n",
            "Epoch 54/100\n",
            "1167/1167 [==============================] - 6s 5ms/step - loss: 0.0027\n",
            "Epoch 55/100\n",
            "1167/1167 [==============================] - 6s 5ms/step - loss: 0.0027\n",
            "Epoch 56/100\n",
            "1167/1167 [==============================] - 6s 5ms/step - loss: 0.0026\n",
            "Epoch 57/100\n",
            "1167/1167 [==============================] - 6s 5ms/step - loss: 0.0026\n",
            "Epoch 58/100\n",
            "1167/1167 [==============================] - 6s 5ms/step - loss: 0.0028\n",
            "Epoch 59/100\n",
            "1167/1167 [==============================] - 6s 5ms/step - loss: 0.0026\n",
            "Epoch 60/100\n",
            "1167/1167 [==============================] - 6s 5ms/step - loss: 0.0025\n",
            "Epoch 61/100\n",
            "1167/1167 [==============================] - 6s 5ms/step - loss: 0.0027\n",
            "Epoch 62/100\n",
            "1167/1167 [==============================] - 6s 5ms/step - loss: 0.0026\n",
            "Epoch 63/100\n",
            "1167/1167 [==============================] - 6s 5ms/step - loss: 0.0027\n",
            "Epoch 64/100\n",
            "1167/1167 [==============================] - 6s 5ms/step - loss: 0.0025\n",
            "Epoch 65/100\n",
            "1167/1167 [==============================] - 6s 5ms/step - loss: 0.0027\n",
            "Epoch 66/100\n",
            "1167/1167 [==============================] - 6s 5ms/step - loss: 0.0024\n",
            "Epoch 67/100\n",
            "1167/1167 [==============================] - 6s 5ms/step - loss: 0.0024\n",
            "Epoch 68/100\n",
            "1167/1167 [==============================] - 6s 5ms/step - loss: 0.0024\n",
            "Epoch 69/100\n",
            "1167/1167 [==============================] - 6s 5ms/step - loss: 0.0022\n",
            "Epoch 70/100\n",
            "1167/1167 [==============================] - 6s 5ms/step - loss: 0.0022\n",
            "Epoch 71/100\n",
            "1167/1167 [==============================] - 6s 5ms/step - loss: 0.0022\n",
            "Epoch 72/100\n",
            "1167/1167 [==============================] - 6s 5ms/step - loss: 0.0023\n",
            "Epoch 73/100\n",
            "1167/1167 [==============================] - 6s 5ms/step - loss: 0.0021\n",
            "Epoch 74/100\n",
            "1167/1167 [==============================] - 6s 5ms/step - loss: 0.0023\n",
            "Epoch 75/100\n",
            "1167/1167 [==============================] - 6s 5ms/step - loss: 0.0024\n",
            "Epoch 76/100\n",
            "1167/1167 [==============================] - 6s 5ms/step - loss: 0.0022\n",
            "Epoch 77/100\n",
            "1167/1167 [==============================] - 6s 5ms/step - loss: 0.0019\n",
            "Epoch 78/100\n",
            "1167/1167 [==============================] - 6s 5ms/step - loss: 0.0020\n",
            "Epoch 79/100\n",
            "1167/1167 [==============================] - 6s 5ms/step - loss: 0.0021\n",
            "Epoch 80/100\n",
            "1167/1167 [==============================] - 6s 5ms/step - loss: 0.0023\n",
            "Epoch 81/100\n",
            "1167/1167 [==============================] - 6s 5ms/step - loss: 0.0022\n",
            "Epoch 82/100\n",
            "1167/1167 [==============================] - 6s 5ms/step - loss: 0.0021\n",
            "Epoch 83/100\n",
            "1167/1167 [==============================] - 6s 5ms/step - loss: 0.0019\n",
            "Epoch 84/100\n",
            "1167/1167 [==============================] - 6s 5ms/step - loss: 0.0021\n",
            "Epoch 85/100\n",
            "1167/1167 [==============================] - 6s 5ms/step - loss: 0.0019\n",
            "Epoch 86/100\n",
            "1167/1167 [==============================] - 6s 5ms/step - loss: 0.0020\n",
            "Epoch 87/100\n",
            "1167/1167 [==============================] - 6s 5ms/step - loss: 0.0019\n",
            "Epoch 88/100\n",
            "1167/1167 [==============================] - 6s 5ms/step - loss: 0.0019\n",
            "Epoch 89/100\n",
            "1167/1167 [==============================] - 6s 5ms/step - loss: 0.0020\n",
            "Epoch 90/100\n",
            "1167/1167 [==============================] - 6s 5ms/step - loss: 0.0022\n",
            "Epoch 91/100\n",
            "1167/1167 [==============================] - 6s 5ms/step - loss: 0.0019\n",
            "Epoch 92/100\n",
            "1167/1167 [==============================] - 6s 5ms/step - loss: 0.0019\n",
            "Epoch 93/100\n",
            "1167/1167 [==============================] - 6s 5ms/step - loss: 0.0019\n",
            "Epoch 94/100\n",
            "1167/1167 [==============================] - 6s 5ms/step - loss: 0.0019\n",
            "Epoch 95/100\n",
            "1167/1167 [==============================] - 6s 5ms/step - loss: 0.0018\n",
            "Epoch 96/100\n",
            "1167/1167 [==============================] - 6s 5ms/step - loss: 0.0020\n",
            "Epoch 97/100\n",
            "1167/1167 [==============================] - 6s 5ms/step - loss: 0.0018\n",
            "Epoch 98/100\n",
            "1167/1167 [==============================] - 6s 5ms/step - loss: 0.0016\n",
            "Epoch 99/100\n",
            "1167/1167 [==============================] - 6s 5ms/step - loss: 0.0016\n",
            "Epoch 100/100\n",
            "1167/1167 [==============================] - 6s 5ms/step - loss: 0.0019\n"
          ],
          "name": "stdout"
        },
        {
          "output_type": "execute_result",
          "data": {
            "text/plain": [
              "<keras.callbacks.History at 0x7f6398d66a20>"
            ]
          },
          "metadata": {
            "tags": []
          },
          "execution_count": 86
        }
      ]
    },
    {
      "metadata": {
        "id": "MxF93mrCZHIl",
        "colab_type": "code",
        "colab": {}
      },
      "cell_type": "code",
      "source": [
        "df_test['mid_price'] = (df_test['low'] + df_test['high']) / 2\n",
        "total = pd.concat((df_data['mid_price'], df_test['mid_price']), axis=0) \n",
        "total"
      ],
      "execution_count": 0,
      "outputs": []
    },
    {
      "metadata": {
        "id": "YxdAU02cZHIp",
        "colab_type": "code",
        "colab": {}
      },
      "cell_type": "code",
      "source": [
        "# Take out prices of the month of January and\n",
        "# the 60 days before that\n",
        "test_inputs = total[len(total) - len(df_test) - window:].values\n",
        "test_inputs"
      ],
      "execution_count": 0,
      "outputs": []
    },
    {
      "metadata": {
        "id": "MMbD5cc_bqeC",
        "colab_type": "code",
        "colab": {}
      },
      "cell_type": "code",
      "source": [
        "test_inputs = test_inputs.reshape(-1,1)  \n",
        "test_inputs = scaler.transform(test_inputs)\n",
        "test_inputs"
      ],
      "execution_count": 0,
      "outputs": []
    },
    {
      "metadata": {
        "id": "HDXygf0JbwNL",
        "colab_type": "code",
        "colab": {}
      },
      "cell_type": "code",
      "source": [
        "test_features = []  \n",
        "for i in range(window, test_inputs.size):  \n",
        "    test_features.append(test_inputs[i-window:i, 0])\n",
        "test_features"
      ],
      "execution_count": 0,
      "outputs": []
    },
    {
      "metadata": {
        "id": "c8GOseUjeE8s",
        "colab_type": "code",
        "colab": {}
      },
      "cell_type": "code",
      "source": [
        "test_features = np.array(test_features)  \n",
        "test_features = np.reshape(test_features, (test_features.shape[0], test_features.shape[1], 1))\n",
        "test_features.shape"
      ],
      "execution_count": 0,
      "outputs": []
    },
    {
      "metadata": {
        "id": "iCTo8G9meLmM",
        "colab_type": "code",
        "colab": {}
      },
      "cell_type": "code",
      "source": [
        "predictions = model.predict(test_features)\n",
        "predictions = scaler.inverse_transform(predictions)"
      ],
      "execution_count": 0,
      "outputs": []
    },
    {
      "metadata": {
        "id": "TyrDivrheQdN",
        "colab_type": "code",
        "colab": {}
      },
      "cell_type": "code",
      "source": [
        "plt.figure(figsize=(20,6))  \n",
        "plt.plot(df_test['mid_price'], color='blue', label='Actual Stock Price')  \n",
        "plt.plot(predictions , color='red', label='Predicted Stock Price')  \n",
        "plt.title('Stock Price Prediction')  \n",
        "plt.xlabel('Date')  \n",
        "plt.ylabel('Stock Price')  \n",
        "plt.legend()  \n",
        "plt.show()  "
      ],
      "execution_count": 0,
      "outputs": []
    }
  ]
}